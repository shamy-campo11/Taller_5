{
  "nbformat": 4,
  "nbformat_minor": 0,
  "metadata": {
    "colab": {
      "provenance": [],
      "authorship_tag": "ABX9TyM4LMp4cApEPWNvzSk5xAAA",
      "include_colab_link": true
    },
    "kernelspec": {
      "name": "python3",
      "display_name": "Python 3"
    },
    "language_info": {
      "name": "python"
    }
  },
  "cells": [
    {
      "cell_type": "markdown",
      "metadata": {
        "id": "view-in-github",
        "colab_type": "text"
      },
      "source": [
        "<a href=\"https://colab.research.google.com/github/shamy-campo11/Taller_5/blob/main/TALLER5.ipynb\" target=\"_parent\"><img src=\"https://colab.research.google.com/assets/colab-badge.svg\" alt=\"Open In Colab\"/></a>"
      ]
    },
    {
      "cell_type": "markdown",
      "source": [
        "## PROBLEMA 1\n",
        "\n",
        "Escribe un programa en Python que solicite al usuario un número entero positivo n y luego imprima los primeros n números naturales usando un ciclo while"
      ],
      "metadata": {
        "id": "AsLxgewllTXw"
      }
    },
    {
      "cell_type": "code",
      "execution_count": 2,
      "metadata": {
        "colab": {
          "base_uri": "https://localhost:8080/"
        },
        "id": "rGn6ejc2lAOC",
        "outputId": "5f30c667-c618-4906-918b-f1e77c3dedbc"
      },
      "outputs": [
        {
          "output_type": "stream",
          "name": "stdout",
          "text": [
            "Por favor, ingresa un número entero positivo: 20\n",
            "1\n",
            "2\n",
            "3\n",
            "4\n",
            "5\n",
            "6\n",
            "7\n",
            "8\n",
            "9\n",
            "10\n",
            "11\n",
            "12\n",
            "13\n",
            "14\n",
            "15\n",
            "16\n",
            "17\n",
            "18\n",
            "19\n",
            "20\n"
          ]
        }
      ],
      "source": [
        "n = int(input(\"Por favor, ingresa un número entero positivo: \"))\n",
        "\n",
        "contador = 1\n",
        "while contador <= n:\n",
        "    print(contador)\n",
        "    contador += 1\n"
      ]
    },
    {
      "cell_type": "markdown",
      "source": [
        "## PROBLEMA 2\n",
        "\n",
        "Escribe un programa en Python que calcule la suma de todos los números pares del 1 al 100 utilizando un ciclo for"
      ],
      "metadata": {
        "id": "ltc0svKknzVc"
      }
    },
    {
      "cell_type": "code",
      "source": [
        "suma = 0\n",
        "for numero in range(2, 101, 2):\n",
        "    suma += numero\n",
        "print(\"La suma de los números pares del 1 al 100 es:\", suma)\n"
      ],
      "metadata": {
        "colab": {
          "base_uri": "https://localhost:8080/"
        },
        "id": "CPHAukn7mPIz",
        "outputId": "c7d6d7de-afc2-4738-b649-5d9b2cb19e34"
      },
      "execution_count": 4,
      "outputs": [
        {
          "output_type": "stream",
          "name": "stdout",
          "text": [
            "La suma de los números pares del 1 al 100 es: 2550\n"
          ]
        }
      ]
    },
    {
      "cell_type": "markdown",
      "source": [
        "## PROBLEMA 3\n",
        "\n",
        "Escribe un programa en Python que imprima el siguiente patrón utilizando ciclos\n",
        "anidados:\n",
        "\n",
        "1\n",
        "12\n",
        "123\n",
        "1234\n",
        "12345\n",
        "Etc…"
      ],
      "metadata": {
        "id": "pVvo_DqAo8oW"
      }
    },
    {
      "cell_type": "code",
      "source": [
        "n = int(input(\"Por favor, ingresa el número de filas para el patrón: \"))\n",
        "for i in range(1, n + 1):\n",
        "    for j in range(1, i + 1):\n",
        "        print(j, end=\"\")\n",
        "    print()\n"
      ],
      "metadata": {
        "colab": {
          "base_uri": "https://localhost:8080/"
        },
        "id": "PVU8grEloudF",
        "outputId": "448109e0-6721-417f-94c8-04925ea6b7b2"
      },
      "execution_count": 6,
      "outputs": [
        {
          "output_type": "stream",
          "name": "stdout",
          "text": [
            "Por favor, ingresa el número de filas para el patrón: 10\n",
            "1\n",
            "12\n",
            "123\n",
            "1234\n",
            "12345\n",
            "123456\n",
            "1234567\n",
            "12345678\n",
            "123456789\n",
            "12345678910\n"
          ]
        }
      ]
    },
    {
      "cell_type": "markdown",
      "source": [
        "## PROBLEMA 5\n",
        "Escribe un programa en Python que solicite al usuario un número entero positivo y luego determine si ese número es primo o no u;lizando un ciclo while."
      ],
      "metadata": {
        "id": "ZGrO44WNqAmm"
      }
    },
    {
      "cell_type": "code",
      "source": [
        "while True:\n",
        "    operacion = input(\"Ingrese una operación matemática (+, -, *, /) o 'salir' para finalizar: \")\n",
        "    if operacion.lower() == \"salir\":\n",
        "        print(\"¡Adiós!\")\n",
        "        break\n",
        "    try:\n",
        "        numero1 = float(input(\"Ingrese el primer número: \"))\n",
        "        numero2 = float(input(\"Ingrese el segundo número: \"))\n",
        "    except ValueError:\n",
        "        print(\"Por favor, ingrese números válidos.\")\n",
        "        continue\n",
        "    if operacion == \"+\":\n",
        "        resultado = numero1 + numero2\n",
        "    elif operacion == \"-\":\n",
        "        resultado = numero1 - numero2\n",
        "    elif operacion == \"*\":\n",
        "        resultado = numero1 * numero2\n",
        "    elif operacion == \"/\":\n",
        "        if numero2 == 0:\n",
        "            print(\"Error: No se puede dividir entre cero.\")\n",
        "            continue\n",
        "        resultado = numero1 / numero2\n",
        "    else:\n",
        "        print(\"Operación no válida.\")\n",
        "        continue\n",
        "\n",
        "    print(\"Resultado:\", resultado)\n",
        "\n"
      ],
      "metadata": {
        "colab": {
          "base_uri": "https://localhost:8080/"
        },
        "id": "NVMcSacFptEr",
        "outputId": "a5735d04-35e0-4448-fc97-abbe789babdf"
      },
      "execution_count": 9,
      "outputs": [
        {
          "output_type": "stream",
          "name": "stdout",
          "text": [
            "Ingrese una operación matemática (+, -, *, /) o 'salir' para finalizar: +\n",
            "Ingrese el primer número: 10\n",
            "Ingrese el segundo número: 10\n",
            "Resultado: 20.0\n",
            "Ingrese una operación matemática (+, -, *, /) o 'salir' para finalizar: -\n",
            "Ingrese el primer número: 20\n",
            "Ingrese el segundo número: 3\n",
            "Resultado: 17.0\n",
            "Ingrese una operación matemática (+, -, *, /) o 'salir' para finalizar: *\n",
            "Ingrese el primer número: 23\n",
            "Ingrese el segundo número: 2\n",
            "Resultado: 46.0\n",
            "Ingrese una operación matemática (+, -, *, /) o 'salir' para finalizar: /\n",
            "Ingrese el primer número: 10\n",
            "Ingrese el segundo número: 2\n",
            "Resultado: 5.0\n",
            "Ingrese una operación matemática (+, -, *, /) o 'salir' para finalizar: salir\n",
            "¡Adiós!\n"
          ]
        }
      ]
    },
    {
      "cell_type": "markdown",
      "source": [
        "## PROBLEMA 6\n",
        "\n",
        "Escribe un programa en Python que imprima los números del 1 al número ingresado\n",
        "por el usuario, en orden descendente utilizando un ciclo for y la función range()."
      ],
      "metadata": {
        "id": "pMmX8n8CteHG"
      }
    },
    {
      "cell_type": "code",
      "source": [
        "\n",
        "numero = int(input(\"Ingrese un número entero: \"))\n",
        "for i in range(numero, 0, -1):\n",
        "    print(i)\n"
      ],
      "metadata": {
        "colab": {
          "base_uri": "https://localhost:8080/"
        },
        "id": "bo9I5WcxsFYC",
        "outputId": "1f8bd74c-81ac-440a-80f3-d74b087b800a"
      },
      "execution_count": 10,
      "outputs": [
        {
          "output_type": "stream",
          "name": "stdout",
          "text": [
            "Ingrese un número entero: 10\n",
            "10\n",
            "9\n",
            "8\n",
            "7\n",
            "6\n",
            "5\n",
            "4\n",
            "3\n",
            "2\n",
            "1\n"
          ]
        }
      ]
    },
    {
      "cell_type": "markdown",
      "source": [
        "## PROBLEMA 7\n",
        "\n",
        "Escribe un programa en Python que imprima la secuencia de números de Fibonacci\n",
        "hasta un valor dado n utilizando un ciclo while\n"
      ],
      "metadata": {
        "id": "hfMPAGisuai_"
      }
    },
    {
      "cell_type": "code",
      "source": [
        "\n",
        "n = int(input(\"Ingrese un valor máximo para la secuencia de Fibonacci: \"))\n",
        "a, b = 0, 1\n",
        "print(a)\n",
        "while b <= n:\n",
        "    print(b)\n",
        "    a, b = b, a + b\n"
      ],
      "metadata": {
        "colab": {
          "base_uri": "https://localhost:8080/"
        },
        "id": "n7HMHgajt108",
        "outputId": "6f68b0ba-7282-4339-bb8a-ff392ad8f577"
      },
      "execution_count": 11,
      "outputs": [
        {
          "output_type": "stream",
          "name": "stdout",
          "text": [
            "Ingrese un valor máximo para la secuencia de Fibonacci: 40\n",
            "0\n",
            "1\n",
            "1\n",
            "2\n",
            "3\n",
            "5\n",
            "8\n",
            "13\n",
            "21\n",
            "34\n"
          ]
        }
      ]
    },
    {
      "cell_type": "markdown",
      "source": [
        "## PROBLEMA 8\n",
        "\n",
        "Escribe un programa en Python que solicite al usuario un número entero positivo y luego calcule la suma de sus dígitos utilizando un ciclo while"
      ],
      "metadata": {
        "id": "whC6yu92vPIX"
      }
    },
    {
      "cell_type": "code",
      "source": [
        "numero = int(input(\"Por favor, ingresa un número entero positivo: \"))\n",
        "if numero < 0:\n",
        "    print(\"El número ingresado no es positivo.\")\n",
        "else:\n",
        "\n",
        "    suma_digitos = 0\n",
        "\n",
        "\n",
        "    while numero > 0:\n",
        "\n",
        "        digito = numero % 10\n",
        "\n",
        "\n",
        "        suma_digitos += digito\n",
        "\n",
        "\n",
        "        numero //= 10\n",
        "\n",
        "\n",
        "    print(\"La suma de los dígitos es:\", suma_digitos)\n",
        "\n"
      ],
      "metadata": {
        "colab": {
          "base_uri": "https://localhost:8080/"
        },
        "id": "MKEEclwVvB5F",
        "outputId": "4fbd6fca-ad8e-4972-989c-243bfdba5acb"
      },
      "execution_count": 13,
      "outputs": [
        {
          "output_type": "stream",
          "name": "stdout",
          "text": [
            "Por favor, ingresa un número entero positivo: 56\n",
            "La suma de los dígitos es: 11\n"
          ]
        }
      ]
    },
    {
      "cell_type": "code",
      "source": [],
      "metadata": {
        "id": "gPbUEJ6XwREd"
      },
      "execution_count": null,
      "outputs": []
    }
  ]
}